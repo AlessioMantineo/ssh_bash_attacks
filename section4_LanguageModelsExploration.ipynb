{
 "cells": [
  {
   "cell_type": "code",
   "execution_count": null,
   "metadata": {},
   "outputs": [],
   "source": [
    "import pandas as pd\n",
    "import matplotlib.pyplot as plt\n",
    "import seaborn as sns\n",
    "import os\n",
    "from sklearn.model_selection import train_test_split\n",
    "from sklearn.preprocessing import MultiLabelBinarizer\n",
    "\n",
    "#Language Models Exploration \n",
    "from gensim.models.doc2vec import Doc2Vec, TaggedDocument\n",
    "from keras.models import Sequential, clone_model\n",
    "from keras.layers import Dense, InputLayer, Dropout\n",
    "from keras.callbacks import EarlyStopping\n",
    "import tensorflow as tf\n",
    "from itertools import product"
   ]
  },
  {
   "cell_type": "code",
   "execution_count": null,
   "metadata": {},
   "outputs": [],
   "source": [
    "if not os.path.isfile(\"ssh_attacks_cleaned.parquet\"):\n",
    "    raise Exception(\"You should run the preprocessing file\")\n",
    "df = pd.read_parquet(\"ssh_attacks_cleaned.parquet\")"
   ]
  },
  {
   "cell_type": "markdown",
   "metadata": {},
   "source": [
    "<br><left><b><font size=4>Section 4 – Language Models exploration<b><left>\n",
    "<div style=\"text-align: justify\">Experiment language models for solving the same supervised task as in Section 2. In this task, the objective is to harness the capabilities of language models like Bert or Word2Vec, for supervised learning (assign intents to sessions). \n",
    "<br><br> Two interesting concepts play a role when we use neural networks:\n",
    "<div style=\"text-align: justify\"><br><b>1)</b> It is possible to do transfer learning, i.e., to take a model that have been trained with other enormous datasets by Big Tech companies, and we can do fine-tuning i.e., to train this model starting from its pre-trained version.\n",
    "<br><b>2)</b> In NLP tasks, words/documents are transformed into vectors (encoding) and this task is Unsupervised, so we can use a much larger amount of data.\n",
    "</div><br>\n",
    "<div style=\"text-align: justify\"><b>4.1. If you choose Doc2Vec: pretrain Doc2Vec on body column of the session text. If you chose Bert: take the pretrained Bert model like in this example. (NB: In this tutorial they used BertForSequenceClassification, but if you want to continue with step 2, you must take an other Bert implementation from HuggingFace)</div><b>\n",
    "<br><left><b><font size=3> Data Preparation and Cleaning </div></b>\n",
    "<br><left><b><font size=2> Step 1 </div></b>\n",
    "The initial phase involved loading the dataset from the 'ssh_attacks.parquet' file. To ensure data quality, a cleaning process was implemented on the 'full_session' column. Non-alphabetic characters were filtered out, and the text was converted to lowercase. This cleaning process was crucial for creating a meaningful representation of the session data.\n",
    "\n",
    "In this endeavor, we embark on a journey to construct a robust Session Intent Classification model with the overarching goal of assigning intents to sessions using state-of-the-art techniques, specifically leveraging the Doc2Vec model and TensorFlow.\n",
    "\n",
    "Our odyssey begins with the exploration of a dataset encapsulating session data, with the central task being the classification of intents. We harness the power of the Pandas library to load our dataset from a parquet file, granting us a glimpse into the raw data's structure.\n"
   ]
  },
  {
   "cell_type": "markdown",
   "metadata": {},
   "source": [
    "A critical facet of our journey involves preparing the textual data for model ingestion. Employing a function to clean the text, we filter out non-alphabetic characters and convert the text to lowercase, ensuring uniformity and aiding in subsequent analysis."
   ]
  },
  {
   "cell_type": "markdown",
   "metadata": {},
   "source": [
    "Subsequently, we embark on the tokenization journey, a crucial step where we convert the cleaned sessions into tagged documents. This allows us to represent our textual data in a format suitable for training the Doc2Vec model."
   ]
  },
  {
   "cell_type": "code",
   "execution_count": null,
   "metadata": {},
   "outputs": [],
   "source": [
    "# Tokenize 'cleaned_session' texts and create tagged documents\n",
    "tagged_data = [TaggedDocument(words=session, tags=[str(i)]) for i, session in enumerate(df[\"full_session\"])]"
   ]
  },
  {
   "cell_type": "markdown",
   "metadata": {},
   "source": [
    "##### Building and Training Doc2Vec Model"
   ]
  },
  {
   "cell_type": "markdown",
   "metadata": {},
   "source": [
    "<div style=\"text-align: justify\">{Cleaning the text data by removing non-alphabetic characters and converting text to lowercase. The Gensim library was used to train a Doc2Vec model on the cleaned text data. A vocabulary was buildt and the Doc2Vec model was trained to generate the vector of embeddings for each session text.}</div>\n",
    "\n",
    "Our expedition proceeds with the training of the Doc2Vec model, an unsupervised learning algorithm designed to transform words or documents into numerical vectors. Configuring the model with specific parameters, such as vector size, window size, and epochs, we meticulously craft a representation of the textual data."
   ]
  },
  {
   "cell_type": "code",
   "execution_count": null,
   "metadata": {},
   "outputs": [],
   "source": [
    "if not os.path.isfile(\"trained_doc2vec_model.model\"):\n",
    "    doc2vec_model = Doc2Vec(vector_size=100, hs=1, negative=0, epochs=20)\n",
    "    doc2vec_model.build_vocab(tagged_data)\n",
    "    doc2vec_model.train(tagged_data, total_examples=doc2vec_model.corpus_count, epochs=doc2vec_model.epochs)\n",
    "    doc2vec_model.save(\"trained_doc2vec_model.model\")\n",
    "else:\n",
    "    doc2vec_model = Doc2Vec.load(\"trained_doc2vec_model.model\")"
   ]
  },
  {
   "cell_type": "markdown",
   "metadata": {},
   "source": [
    "##### Saving the Trained Model"
   ]
  },
  {
   "cell_type": "markdown",
   "metadata": {},
   "source": [
    "Our grand architecture unfolds as we transition into building and training the classification model, integrating the pre-trained Doc2Vec embeddings.\n",
    "\n",
    "We fashion a Sequential model in TensorFlow, introducing a dense layer to accommodate the Doc2Vec embeddings as the input layer. Subsequently, we append a final dense layer, equipped with softmax activation for multiclass classification.\n",
    "\n",
    "**4.2. Add a last Dense Layer**\n",
    "\n",
    "<div style=\"text-align: justify\">We have trained the Doc2Vec model, which generated embeddings for our text data. Now, to perform classification, we will build a simple Neural Network that will take these embeddings and will add a dense layer for the classification task. The dense layer will have as many neurons as the number of classes we want to predict.</div>\n",
    "\n",
    "Created a neural network model using TensorFlow/Keras. Set up the architecture by adding a Dense layer with the input dimension being the size of the Doc2Vec vectors and a final Dense layer with softmax activation for multi-class classification."
   ]
  },
  {
   "cell_type": "code",
   "execution_count": null,
   "metadata": {},
   "outputs": [],
   "source": [
    "X = [doc2vec_model.dv[i] for i in range(len(tagged_data))]\n",
    "y = df[\"Set_Fingerprint\"]"
   ]
  },
  {
   "cell_type": "code",
   "execution_count": null,
   "metadata": {},
   "outputs": [],
   "source": [
    "X_train, X_test, y_train, y_test = train_test_split(X, y, test_size=0.3)"
   ]
  },
  {
   "cell_type": "code",
   "execution_count": null,
   "metadata": {},
   "outputs": [],
   "source": [
    "mlb = MultiLabelBinarizer()\n",
    "y_train_mlb = mlb.fit_transform(y_train)\n",
    "y_test_mlb = mlb.fit_transform(y_test)"
   ]
  },
  {
   "cell_type": "code",
   "execution_count": null,
   "metadata": {},
   "outputs": [],
   "source": [
    "X_train_tensor = tf.convert_to_tensor(X_train)\n",
    "X_test_tensor = tf.convert_to_tensor(X_test)\n",
    "y_train_tensor = tf.convert_to_tensor(y_train_mlb)\n",
    "y_test_tensor = tf.convert_to_tensor(y_test_mlb)"
   ]
  },
  {
   "cell_type": "code",
   "execution_count": null,
   "metadata": {},
   "outputs": [],
   "source": [
    "# create_model function defines a simple neural network model with an input layer and a dense layer. \n",
    "def create_model(learning_rate):\n",
    "    tf.keras.backend.clear_session()\n",
    "    model = Sequential()\n",
    "    model.add(InputLayer(input_shape=(doc2vec_model.vector_size,)))\n",
    "    model.add(Dense(7, activation=tf.nn.sigmoid))\n",
    "\n",
    "    optimizer = tf.keras.optimizers.SGD(learning_rate=learning_rate)\n",
    "    model.compile(optimizer=optimizer, loss=tf.keras.losses.BinaryCrossentropy(), \n",
    "                  metrics=[tf.keras.metrics.AUC(), tf.keras.metrics.Precision(), tf.keras.metrics.Recall()])\n",
    "\n",
    "    return model\n",
    "\n",
    "# Hyperparameter combinations\n",
    "learning_rates = [0.001, 0.01, 0.1] \n",
    "epochs = [5, 10, 15]\n",
    "\n",
    "# Create an empty list to store results\n",
    "results = []\n",
    "\n",
    "for hyperparameters in list(product(learning_rates, epochs)):\n",
    "    model = create_model(learning_rate=hyperparameters[0])\n",
    "    history = model.fit(X_train_tensor, y_train_tensor, batch_size=64,  epochs=hyperparameters[1], verbose=0, validation_data=(X_test_tensor, y_test_tensor))\n",
    "    result = {\"learning_rate\": hyperparameters[0], \"epochs\": hyperparameters[1], \"metrics\": history}\n",
    "    results.append(result)"
   ]
  },
  {
   "cell_type": "code",
   "execution_count": null,
   "metadata": {},
   "outputs": [],
   "source": [
    "sns.set_theme(style=\"darkgrid\")\n",
    "for result in results:\n",
    "    plt.figure(figsize=(12, 6))\n",
    "\n",
    "\n",
    "    plt.suptitle(f\"epochs: {result.get('epochs')}, learning rate: {result.get('learning_rate')}\")\n",
    "\n",
    "    plt.subplot(2, 2, 1)\n",
    "    plt.plot(result.get(\"metrics\").history[\"loss\"], label='Training Loss')\n",
    "    plt.plot(result.get(\"metrics\").history[\"val_loss\"], label='Validation Loss')\n",
    "    plt.title(\"Training and Validation Loss\")\n",
    "    plt.xlabel(\"Epoch\")\n",
    "    plt.ylabel(\"Loss\")\n",
    "    plt.legend()\n",
    "\n",
    "    plt.subplot(2, 2, 2)\n",
    "    plt.plot(result.get(\"metrics\").history[\"auc\"], label=\"Training AUC\")\n",
    "    plt.plot(result.get(\"metrics\").history[\"val_auc\"], label=\"Validation AUC\")\n",
    "    plt.title(\"Training and Validation AUC\")\n",
    "    plt.xlabel(\"Epoch\")\n",
    "    plt.ylabel(\"AUC\")\n",
    "    plt.legend()\n",
    "\n",
    "    plt.subplot(2, 2, 3)\n",
    "    plt.plot(result.get(\"metrics\").history[\"precision\"], label=\"Training Precision\")\n",
    "    plt.plot(result.get(\"metrics\").history[\"val_precision\"], label=\"Validation Precision\")\n",
    "    plt.title(\"Training and Validation Precision\")\n",
    "    plt.xlabel(\"Epoch\")\n",
    "    plt.ylabel(\"Precision\")\n",
    "    plt.legend()\n",
    "\n",
    "    plt.subplot(2, 2, 4)\n",
    "    plt.plot(result.get(\"metrics\").history[\"recall\"], label=\"Training Recall\")\n",
    "    plt.plot(result.get(\"metrics\").history[\"val_recall\"], label=\"Validation Recall\")\n",
    "    plt.title(\"Training and Validation Recall\")\n",
    "    plt.xlabel(\"Epoch\")\n",
    "    plt.ylabel(\"Recall\")\n",
    "    plt.legend()\n",
    "\n",
    "\n",
    "    plt.tight_layout()\n",
    "    plt.show()"
   ]
  },
  {
   "cell_type": "markdown",
   "metadata": {},
   "source": [
    "Results for Learning Rate: 0.1, Epochs: 5\n",
    "Training Metrics:\n",
    "The initial 5 epochs show significant improvements in various metrics. The loss decreases, and AUC, precision, and recall all exhibit positive trends. These improvements indicate that the model is learning from the data and adapting its parameters to better fit the training set.\n",
    "\n",
    "Validation Metrics:\n",
    "Validation metrics also show promising results after 5 epochs. The decreasing validation loss and improving AUC, precision, and recall suggest that the model generalizes well to unseen data.\n",
    "\n",
    "Results for Learning Rate: 0.1, Epochs: 10\n",
    "Training Metrics:\n",
    "Extending training to 10 epochs results in continued improvements, albeit at a slower rate. The loss, AUC, precision, and recall all show positive trajectories, indicating ongoing refinement of the model.\n",
    "\n",
    "Validation Metrics:\n",
    "Validation metrics maintain consistency with training metrics, showcasing that the model's performance extends beyond the training set. The decreasing validation loss and improvements in AUC, precision, and recall suggest that the model is still benefiting from additional training.\n",
    "\n",
    "Results for Learning Rate: 0.1, Epochs: 15\n",
    "Training Metrics:\n",
    "Training for 15 epochs demonstrates marginal improvements in metrics. The loss continues to decrease, but AUC, precision, and recall show slower rates of improvement, indicating potential diminishing returns.\n",
    "\n",
    "Validation Metrics:\n",
    "Validation metrics exhibit similar trends, with diminishing returns after 10 epochs. While the model continues to generalize, the rate of improvement decreases.\n",
    "\n",
    "Discussion on Sufficient Epochs:\n",
    "The observed trends suggest that the model achieves significant gains within the initial 5 to 10 epochs. Beyond this point, the rate of improvement diminishes, indicating that additional epochs may offer limited benefits. This phenomenon is often referred to as \"early stopping,\" where training is halted once the model's performance plateaus, preventing overfitting.\n",
    "\n",
    "Considering computational efficiency and avoiding overfitting, it seems reasonable to stop training around 10 epochs. This allows the model to capture the underlying patterns in the data without unnecessary computational costs."
   ]
  },
  {
   "cell_type": "markdown",
   "metadata": {},
   "source": [
    "6 Epochs: Stopping at 6 epochs appears to capture substantial improvements in the model. The trends indicate that the model is learning effectively, and additional epochs may provide diminishing returns.\n",
    "\n",
    "10 Epochs: Extending training to 10 epochs could lead to further refinement, particularly in fine-tuning the model's parameters. However, this comes with increased computational cost.\n",
    "\n",
    "Stopping at 6 epochs seems to strike a balance between efficiency and model performance"
   ]
  },
  {
   "cell_type": "markdown",
   "metadata": {},
   "source": [
    "Comparison with Learning Rate: 0.1\n",
    "Learning Rate: 0.01 vs. 0.1\n",
    "Loss: The model with a learning rate of 0.01 generally achieves lower training and validation losses, indicating better convergence.\n",
    "AUC: Both learning rates show similar positive trends in AUC, but 0.01 may provide slightly better discrimination ability.\n",
    "Precision and Recall: Both learning rates lead to improved precision and recall, but 0.01 appears to offer slightly better performance."
   ]
  },
  {
   "cell_type": "markdown",
   "metadata": {},
   "source": [
    "The learning rate of 0.001 demonstrates effective learning, showing superior convergence and performance across key metrics compared to 0.01 and 0.1.\n",
    "While both 0.01 and 0.1 show reasonable performance, 0.001 is a promising candidate for further experimentation and fine-tuning to optimize model performance."
   ]
  },
  {
   "cell_type": "code",
   "execution_count": null,
   "metadata": {},
   "outputs": [],
   "source": [
    "def print_results_for_lr_and_epochs(learning_rate, epochs, results):\n",
    "    print(f\"\\nResults for Learning Rate: {learning_rate}, Epochs: {epochs}\\n\")\n",
    "    \n",
    "    # Filter results for the specified learning rate and epochs\n",
    "    lr_epochs_results = [result for result in results if result[\"learning_rate\"] == learning_rate and result[\"epochs\"] == epochs]\n",
    "\n",
    "    for result in lr_epochs_results:\n",
    "        # Print the metrics from history\n",
    "        print(\"Training Metrics:\")\n",
    "        for metric_name, values in result[\"metrics\"].history.items():\n",
    "            print(f\"{metric_name}: {values}\")\n",
    "\n",
    "        # Print validation metrics\n",
    "        print(\"Validation Metrics:\")\n",
    "        for metric_name, values in result[\"metrics\"].history.items():\n",
    "            print(f\"val_{metric_name}: {values}\")"
   ]
  },
  {
   "cell_type": "code",
   "execution_count": null,
   "metadata": {},
   "outputs": [],
   "source": [
    "print_results_for_lr_and_epochs(0.001, 5, results)"
   ]
  },
  {
   "cell_type": "code",
   "execution_count": null,
   "metadata": {},
   "outputs": [],
   "source": [
    "print_results_for_lr_and_epochs(0.001, 10, results)"
   ]
  },
  {
   "cell_type": "code",
   "execution_count": null,
   "metadata": {},
   "outputs": [],
   "source": [
    "print_results_for_lr_and_epochs(0.001, 15, results)"
   ]
  }
 ],
 "metadata": {
  "kernelspec": {
   "display_name": "Python 3",
   "language": "python",
   "name": "python3"
  },
  "language_info": {
   "name": "python",
   "pygments_lexer": "ipython3",
   "version": "3.11.3"
  }
 },
 "nbformat": 4,
 "nbformat_minor": 2
}

{
 "cells": [
  {
   "cell_type": "code",
   "execution_count": 23,
   "metadata": {},
   "outputs": [],
   "source": [
    "import pandas as pd\n",
    "import numpy as np\n",
    "import matplotlib.pyplot as plt\n",
    "import seaborn as sns\n",
    "import os\n",
    "from sklearn.model_selection import train_test_split\n",
    "from sklearn.preprocessing import MultiLabelBinarizer\n",
    "\n",
    "#Language Models Exploration \n",
    "from gensim.models.doc2vec import Doc2Vec, TaggedDocument\n",
    "from keras.models import Sequential, clone_model\n",
    "from keras.layers import Dense, InputLayer, Dropout\n",
    "from keras.callbacks import EarlyStopping\n",
    "import tensorflow as tf\n",
    "from itertools import product"
   ]
  },
  {
   "cell_type": "code",
   "execution_count": 24,
   "metadata": {},
   "outputs": [],
   "source": [
    "if not os.path.isfile(\"ssh_attacks_decoded_splitted.parquet\"):\n",
    "    raise Exception(\"You should run the preprocessing file\")\n",
    "df = pd.read_parquet(\"ssh_attacks_decoded.parquet\")"
   ]
  },
  {
   "cell_type": "code",
   "execution_count": 25,
   "metadata": {},
   "outputs": [],
   "source": [
    "import re\n",
    "def split_by_vocabulary(string, vocabulary):\n",
    "    pattern = '|'.join(map(re.escape, vocabulary))\n",
    "    matches = re.findall(pattern, string)\n",
    "    return matches\n",
    "\n",
    "vocabulary = ['ab', 'alpine', 'apt', 'ar', 'ash', 'awk', 'base64', 'bash', 'bin', 'bs', 'busybox', 'cat', 'cd', 'chmod', 'chpasswd', 'count', 'cp', 'cpan', 'cpuinfo', 'crontab', 'curl', 'dc', 'dd', 'decode', 'dev', 'echo', 'enable', 'exit', 'free', 'ftp', 'go', 'grep', 'head', 'ls', 'lscpu', 'mkdir', 'mounts', 'mv', 'name', 'nc', 'nohup', 'passwd', 'perl', 'print', 'proc', 'python', 'rm', 'root', 'scp', 'sed', 'sh', 'shell', 'shm', 'sleep', 'socket', 'ss', 'sudo', 'system', 'tar', 'telnet', 'tftp', 'tmp', 'top', 'tsm', 'udp', 'uname', 'unix', 'var', 'vim', 'wget']"
   ]
  },
  {
   "cell_type": "code",
   "execution_count": 26,
   "metadata": {},
   "outputs": [],
   "source": [
    "df[\"full_session\"] = df[\"full_session\"].apply(lambda session: split_by_vocabulary(session, vocabulary))"
   ]
  },
  {
   "cell_type": "markdown",
   "metadata": {},
   "source": [
    "<br><left><b><font size=4>Section 4 – Language Models exploration<b><left>\n",
    "<div style=\"text-align: justify\">Experiment language models for solving the same supervised task as in Section 2. In this task, the objective is to harness the capabilities of language models like Bert or Word2Vec, for supervised learning (assign intents to sessions). \n",
    "<br><br> Two interesting concepts play a role when we use neural networks:\n",
    "<div style=\"text-align: justify\"><br><b>1)</b> It is possible to do transfer learning, i.e., to take a model that have been trained with other enormous datasets by Big Tech companies, and we can do fine-tuning i.e., to train this model starting from its pre-trained version.\n",
    "<br><b>2)</b> In NLP tasks, words/documents are transformed into vectors (encoding) and this task is Unsupervised, so we can use a much larger amount of data.\n",
    "</div><br>\n",
    "<div style=\"text-align: justify\"><b>4.1. If you choose Doc2Vec: pretrain Doc2Vec on body column of the session text. If you chose Bert: take the pretrained Bert model like in this example. (NB: In this tutorial they used BertForSequenceClassification, but if you want to continue with step 2, you must take an other Bert implementation from HuggingFace)</div><b>\n",
    "<br><left><b><font size=3> Data Preparation and Cleaning </div></b>\n",
    "<br><left><b><font size=2> Step 1 </div></b>\n",
    "The initial phase involved loading the dataset from the 'ssh_attacks.parquet' file. To ensure data quality, a cleaning process was implemented on the 'full_session' column. Non-alphabetic characters were filtered out, and the text was converted to lowercase. This cleaning process was crucial for creating a meaningful representation of the session data.\n",
    "\n",
    "In this endeavor, we embark on a journey to construct a robust Session Intent Classification model with the overarching goal of assigning intents to sessions using state-of-the-art techniques, specifically leveraging the Doc2Vec model and TensorFlow.\n",
    "\n",
    "Our odyssey begins with the exploration of a dataset encapsulating session data, with the central task being the classification of intents. We harness the power of the Pandas library to load our dataset from a parquet file, granting us a glimpse into the raw data's structure.\n"
   ]
  },
  {
   "cell_type": "markdown",
   "metadata": {},
   "source": [
    "A critical facet of our journey involves preparing the textual data for model ingestion. Employing a function to clean the text, we filter out non-alphabetic characters and convert the text to lowercase, ensuring uniformity and aiding in subsequent analysis."
   ]
  },
  {
   "cell_type": "markdown",
   "metadata": {},
   "source": [
    "Subsequently, we embark on the tokenization journey, a crucial step where we convert the cleaned sessions into tagged documents. This allows us to represent our textual data in a format suitable for training the Doc2Vec model."
   ]
  },
  {
   "cell_type": "code",
   "execution_count": 27,
   "metadata": {},
   "outputs": [],
   "source": [
    "# Tokenize 'cleaned_session' texts and create tagged documents\n",
    "tagged_data = [TaggedDocument(words=session, tags=[str(i)]) for i, session in enumerate(df[\"full_session\"])]"
   ]
  },
  {
   "cell_type": "markdown",
   "metadata": {},
   "source": [
    "##### Building and Training Doc2Vec Model"
   ]
  },
  {
   "cell_type": "markdown",
   "metadata": {},
   "source": [
    "<div style=\"text-align: justify\">{Cleaning the text data by removing non-alphabetic characters and converting text to lowercase. The Gensim library was used to train a Doc2Vec model on the cleaned text data. A vocabulary was buildt and the Doc2Vec model was trained to generate the vector of embeddings for each session text.}</div>\n",
    "\n",
    "Our expedition proceeds with the training of the Doc2Vec model, an unsupervised learning algorithm designed to transform words or documents into numerical vectors. Configuring the model with specific parameters, such as vector size, window size, and epochs, we meticulously craft a representation of the textual data."
   ]
  },
  {
   "cell_type": "code",
   "execution_count": 28,
   "metadata": {},
   "outputs": [],
   "source": [
    "if not os.path.isfile(\"trained_doc2vec_model.model\"):\n",
    "    doc2vec_model = Doc2Vec(tagged_data, vector_size=100, hs=1, negative=0, epochs=20)\n",
    "    #doc2vec_model.build_vocab(tagged_data)\n",
    "    #doc2vec_model.train(tagged_data, total_examples=doc2vec_model.corpus_count, epochs=doc2vec_model.epochs)\n",
    "    doc2vec_model.save(\"trained_doc2vec_model.model\")\n",
    "else:\n",
    "    doc2vec_model = Doc2Vec.load(\"trained_doc2vec_model.model\")"
   ]
  },
  {
   "cell_type": "markdown",
   "metadata": {},
   "source": [
    "##### Saving the Trained Model"
   ]
  },
  {
   "cell_type": "markdown",
   "metadata": {},
   "source": [
    "Our grand architecture unfolds as we transition into building and training the classification model, integrating the pre-trained Doc2Vec embeddings.\n",
    "\n",
    "We fashion a Sequential model in TensorFlow, introducing a dense layer to accommodate the Doc2Vec embeddings as the input layer. Subsequently, we append a final dense layer, equipped with softmax activation for multiclass classification.\n",
    "\n",
    "**4.2. Add a last Dense Layer**\n",
    "\n",
    "<div style=\"text-align: justify\">We have trained the Doc2Vec model, which generated embeddings for our text data. Now, to perform classification, we will build a simple Neural Network that will take these embeddings and will add a dense layer for the classification task. The dense layer will have as many neurons as the number of classes we want to predict.</div>\n",
    "\n",
    "Created a neural network model using TensorFlow/Keras. Set up the architecture by adding a Dense layer with the input dimension being the size of the Doc2Vec vectors and a final Dense layer with softmax activation for multi-class classification."
   ]
  },
  {
   "cell_type": "code",
   "execution_count": 29,
   "metadata": {},
   "outputs": [],
   "source": [
    "X = [doc2vec_model.dv[i] for i in range(len(tagged_data))]\n",
    "y = df[\"Set_Fingerprint\"]"
   ]
  },
  {
   "cell_type": "code",
   "execution_count": 30,
   "metadata": {},
   "outputs": [],
   "source": [
    "X_train, X_test, y_train, y_test = train_test_split(X, y, train_size=0.7)"
   ]
  },
  {
   "cell_type": "code",
   "execution_count": 31,
   "metadata": {},
   "outputs": [],
   "source": [
    "mlb = MultiLabelBinarizer()\n",
    "y_train_mlb = mlb.fit_transform(y_train)\n",
    "y_test_mlb = mlb.fit_transform(y_test)"
   ]
  },
  {
   "cell_type": "code",
   "execution_count": 32,
   "metadata": {},
   "outputs": [],
   "source": [
    "X_train_tensor = tf.convert_to_tensor(X_train)\n",
    "X_test_tensor = tf.convert_to_tensor(X_test)\n",
    "y_train_tensor = tf.convert_to_tensor(y_train_mlb)\n",
    "y_test_tensor = tf.convert_to_tensor(y_test_mlb)"
   ]
  },
  {
   "cell_type": "code",
   "execution_count": 64,
   "metadata": {},
   "outputs": [],
   "source": [
    "# create_model function defines a simple neural network model with an input layer and a dense layer. \n",
    "def create_model(learning_rate):\n",
    "    tf.keras.backend.clear_session()\n",
    "    model = Sequential()\n",
    "    model.add(InputLayer(input_shape=(doc2vec_model.vector_size,)))\n",
    "    model.add(Dense(7, activation=tf.nn.sigmoid))\n",
    "\n",
    "    optimizer = tf.keras.optimizers.SGD(learning_rate=learning_rate)\n",
    "    model.compile(optimizer=optimizer, loss=tf.keras.losses.BinaryCrossentropy(), \n",
    "                  metrics=[tf.keras.metrics.AUC(), tf.keras.metrics.Precision(), tf.keras.metrics.Recall()])\n",
    "\n",
    "    return model\n",
    "\n",
    "# Hyperparameter combinations\n",
    "learning_rates = [0.001, 0.01, 0.1] \n",
    "epochs = [5, 10, 15]\n",
    "\n",
    "# Create an empty list to store results\n",
    "results = []\n",
    "\n",
    "for hyperparameters in list(product(learning_rates, epochs)):\n",
    "    model = create_model(learning_rate=hyperparameters[0])\n",
    "    history = model.fit(X_train_tensor, y_train_tensor, batch_size=64,  epochs=hyperparameters[1], verbose=0, validation_data=(X_test_tensor, y_test_tensor))\n",
    "    result = {\"learning_rate\": hyperparameters[0], \"epochs\": hyperparameters[1], \"metrics\": history}\n",
    "    results.append(result)"
   ]
  },
  {
   "cell_type": "code",
   "execution_count": 65,
   "metadata": {},
   "outputs": [
    {
     "data": {
      "image/png": "[encoded data removed]",
      "text/plain": [
       "<Figure size 1200x600 with 4 Axes>"
      ]
     },
     "metadata": {},
     "output_type": "display_data"
    }
   ],
   "source": [
    "sns.set_theme(style=\"darkgrid\")\n",
    "for result in results:\n",
    "    plt.figure(figsize=(12, 6))\n",
    "\n",
    "\n",
    "    plt.suptitle(f\"epochs: {result.get('epochs')}, learning rate: {result.get('learning_rate')}\")\n",
    "\n",
    "    plt.subplot(2, 2, 1)\n",
    "    plt.plot(result.get(\"metrics\").history[\"loss\"], label='Training Loss')\n",
    "    plt.plot(result.get(\"metrics\").history[\"val_loss\"], label='Validation Loss')\n",
    "    plt.title(\"Training and Validation Loss\")\n",
    "    plt.xlabel(\"Epoch\")\n",
    "    plt.ylabel(\"Loss\")\n",
    "    plt.legend()\n",
    "\n",
    "    plt.subplot(2, 2, 2)\n",
    "    plt.plot(result.get(\"metrics\").history[\"auc\"], label=\"Training AUC\")\n",
    "    plt.plot(result.get(\"metrics\").history[\"val_auc\"], label=\"Validation AUC\")\n",
    "    plt.title(\"Training and Validation AUC\")\n",
    "    plt.xlabel(\"Epoch\")\n",
    "    plt.ylabel(\"AUC\")\n",
    "    plt.legend()\n",
    "\n",
    "    plt.subplot(2, 2, 3)\n",
    "    plt.plot(result.get(\"metrics\").history[\"precision\"], label=\"Training Precision\")\n",
    "    plt.plot(result.get(\"metrics\").history[\"val_precision\"], label=\"Validation Precision\")\n",
    "    plt.title(\"Training and Validation Precision\")\n",
    "    plt.xlabel(\"Epoch\")\n",
    "    plt.ylabel(\"Precision\")\n",
    "    plt.legend()\n",
    "\n",
    "    plt.subplot(2, 2, 4)\n",
    "    plt.plot(result.get(\"metrics\").history[\"recall\"], label=\"Training Recall\")\n",
    "    plt.plot(result.get(\"metrics\").history[\"val_recall\"], label=\"Validation Recall\")\n",
    "    plt.title(\"Training and Validation Recall\")\n",
    "    plt.xlabel(\"Epoch\")\n",
    "    plt.ylabel(\"Recall\")\n",
    "    plt.legend()\n",
    "\n",
    "\n",
    "    plt.tight_layout()\n",
    "    plt.show()"
   ]
  },
  {
   "cell_type": "markdown",
   "metadata": {},
   "source": [
    "Results for Learning Rate: 0.1, Epochs: 5\n",
    "Training Metrics:\n",
    "The initial 5 epochs show significant improvements in various metrics. The loss decreases, and AUC, precision, and recall all exhibit positive trends. These improvements indicate that the model is learning from the data and adapting its parameters to better fit the training set.\n",
    "\n",
    "Validation Metrics:\n",
    "Validation metrics also show promising results after 5 epochs. The decreasing validation loss and improving AUC, precision, and recall suggest that the model generalizes well to unseen data.\n",
    "\n",
    "Results for Learning Rate: 0.1, Epochs: 10\n",
    "Training Metrics:\n",
    "Extending training to 10 epochs results in continued improvements, albeit at a slower rate. The loss, AUC, precision, and recall all show positive trajectories, indicating ongoing refinement of the model.\n",
    "\n",
    "Validation Metrics:\n",
    "Validation metrics maintain consistency with training metrics, showcasing that the model's performance extends beyond the training set. The decreasing validation loss and improvements in AUC, precision, and recall suggest that the model is still benefiting from additional training.\n",
    "\n",
    "Results for Learning Rate: 0.1, Epochs: 15\n",
    "Training Metrics:\n",
    "Training for 15 epochs demonstrates marginal improvements in metrics. The loss continues to decrease, but AUC, precision, and recall show slower rates of improvement, indicating potential diminishing returns.\n",
    "\n",
    "Validation Metrics:\n",
    "Validation metrics exhibit similar trends, with diminishing returns after 10 epochs. While the model continues to generalize, the rate of improvement decreases.\n",
    "\n",
    "Discussion on Sufficient Epochs:\n",
    "The observed trends suggest that the model achieves significant gains within the initial 5 to 10 epochs. Beyond this point, the rate of improvement diminishes, indicating that additional epochs may offer limited benefits. This phenomenon is often referred to as \"early stopping,\" where training is halted once the model's performance plateaus, preventing overfitting.\n",
    "\n",
    "Considering computational efficiency and avoiding overfitting, it seems reasonable to stop training around 10 epochs. This allows the model to capture the underlying patterns in the data without unnecessary computational costs."
   ]
  },
  {
   "cell_type": "markdown",
   "metadata": {},
   "source": [
    "6 Epochs: Stopping at 6 epochs appears to capture substantial improvements in the model. The trends indicate that the model is learning effectively, and additional epochs may provide diminishing returns.\n",
    "\n",
    "10 Epochs: Extending training to 10 epochs could lead to further refinement, particularly in fine-tuning the model's parameters. However, this comes with increased computational cost.\n",
    "\n",
    "Stopping at 6 epochs seems to strike a balance between efficiency and model performance"
   ]
  },
  {
   "cell_type": "markdown",
   "metadata": {},
   "source": [
    "Comparison with Learning Rate: 0.1\n",
    "Learning Rate: 0.01 vs. 0.1\n",
    "Loss: The model with a learning rate of 0.01 generally achieves lower training and validation losses, indicating better convergence.\n",
    "AUC: Both learning rates show similar positive trends in AUC, but 0.01 may provide slightly better discrimination ability.\n",
    "Precision and Recall: Both learning rates lead to improved precision and recall, but 0.01 appears to offer slightly better performance."
   ]
  },
  {
   "cell_type": "markdown",
   "metadata": {},
   "source": [
    "The learning rate of 0.001 demonstrates effective learning, showing superior convergence and performance across key metrics compared to 0.01 and 0.1.\n",
    "While both 0.01 and 0.1 show reasonable performance, 0.001 is a promising candidate for further experimentation and fine-tuning to optimize model performance."
   ]
  },
  {
   "cell_type": "code",
   "execution_count": 66,
   "metadata": {},
   "outputs": [],
   "source": [
    "def print_results_for_lr_and_epochs(learning_rate, epochs, results):\n",
    "    print(f\"\\nResults for Learning Rate: {learning_rate}, Epochs: {epochs}\\n\")\n",
    "    \n",
    "    # Filter results for the specified learning rate and epochs\n",
    "    lr_epochs_results = [result for result in results if result[\"learning_rate\"] == learning_rate and result[\"epochs\"] == epochs]\n",
    "\n",
    "    for result in lr_epochs_results:\n",
    "        # Print the metrics from history\n",
    "        print(\"Training Metrics:\")\n",
    "        for metric_name, values in result[\"metrics\"].history.items():\n",
    "            print(f\"{metric_name}: {values}\")\n",
    "\n",
    "        # Print validation metrics\n",
    "        print(\"Validation Metrics:\")\n",
    "        for metric_name, values in result[\"metrics\"].history.items():\n",
    "            print(f\"val_{metric_name}: {values}\")"
   ]
  },
  {
   "cell_type": "code",
   "execution_count": 71,
   "metadata": {},
   "outputs": [
    {
     "name": "stdout",
     "output_type": "stream",
     "text": [
      "5098/5098 [==============================] - 7s 1ms/step\n",
      "2185/2185 [==============================] - 3s 1ms/step\n"
     ]
    }
   ],
   "source": [
    "y_train_predictions = (model.predict(X_train_tensor) > 0.5).astype(\"int32\")\n",
    "y_test_predictions = (model.predict(X_test_tensor) > 0.5).astype(\"int32\")"
   ]
  },
  {
   "cell_type": "code",
   "execution_count": 72,
   "metadata": {},
   "outputs": [
    {
     "data": {
      "text/html": [
       "<div>\n",
       "<style scoped>\n",
       "    .dataframe tbody tr th:only-of-type {\n",
       "        vertical-align: middle;\n",
       "    }\n",
       "\n",
       "    .dataframe tbody tr th {\n",
       "        vertical-align: top;\n",
       "    }\n",
       "\n",
       "    .dataframe thead th {\n",
       "        text-align: right;\n",
       "    }\n",
       "</style>\n",
       "<table border=\"1\" class=\"dataframe\">\n",
       "  <thead>\n",
       "    <tr style=\"text-align: right;\">\n",
       "      <th></th>\n",
       "      <th>precision</th>\n",
       "      <th>recall</th>\n",
       "      <th>f1-score</th>\n",
       "      <th>support</th>\n",
       "    </tr>\n",
       "  </thead>\n",
       "  <tbody>\n",
       "    <tr>\n",
       "      <th>Defense Evasion</th>\n",
       "      <td>0.096774</td>\n",
       "      <td>0.000226</td>\n",
       "      <td>0.000451</td>\n",
       "      <td>13269.0</td>\n",
       "    </tr>\n",
       "    <tr>\n",
       "      <th>Discovery</th>\n",
       "      <td>0.996175</td>\n",
       "      <td>1.000000</td>\n",
       "      <td>0.998084</td>\n",
       "      <td>162500.0</td>\n",
       "    </tr>\n",
       "    <tr>\n",
       "      <th>Execution</th>\n",
       "      <td>0.881909</td>\n",
       "      <td>0.589494</td>\n",
       "      <td>0.706645</td>\n",
       "      <td>65066.0</td>\n",
       "    </tr>\n",
       "    <tr>\n",
       "      <th>Harmless</th>\n",
       "      <td>1.000000</td>\n",
       "      <td>0.000000</td>\n",
       "      <td>0.000000</td>\n",
       "      <td>1555.0</td>\n",
       "    </tr>\n",
       "    <tr>\n",
       "      <th>Impact</th>\n",
       "      <td>1.000000</td>\n",
       "      <td>0.000000</td>\n",
       "      <td>0.000000</td>\n",
       "      <td>20.0</td>\n",
       "    </tr>\n",
       "    <tr>\n",
       "      <th>Other</th>\n",
       "      <td>1.000000</td>\n",
       "      <td>0.000000</td>\n",
       "      <td>0.000000</td>\n",
       "      <td>232.0</td>\n",
       "    </tr>\n",
       "    <tr>\n",
       "      <th>Persistence</th>\n",
       "      <td>0.906898</td>\n",
       "      <td>0.999905</td>\n",
       "      <td>0.951134</td>\n",
       "      <td>147911.0</td>\n",
       "    </tr>\n",
       "    <tr>\n",
       "      <th>micro avg</th>\n",
       "      <td>0.943280</td>\n",
       "      <td>0.892980</td>\n",
       "      <td>0.917441</td>\n",
       "      <td>390553.0</td>\n",
       "    </tr>\n",
       "    <tr>\n",
       "      <th>macro avg</th>\n",
       "      <td>0.840251</td>\n",
       "      <td>0.369946</td>\n",
       "      <td>0.379473</td>\n",
       "      <td>390553.0</td>\n",
       "    </tr>\n",
       "    <tr>\n",
       "      <th>weighted avg</th>\n",
       "      <td>0.912788</td>\n",
       "      <td>0.892980</td>\n",
       "      <td>0.893237</td>\n",
       "      <td>390553.0</td>\n",
       "    </tr>\n",
       "    <tr>\n",
       "      <th>samples avg</th>\n",
       "      <td>0.942291</td>\n",
       "      <td>0.900853</td>\n",
       "      <td>0.915891</td>\n",
       "      <td>390553.0</td>\n",
       "    </tr>\n",
       "  </tbody>\n",
       "</table>\n",
       "</div>"
      ],
      "text/plain": [
       "                 precision    recall  f1-score   support\n",
       "Defense Evasion   0.096774  0.000226  0.000451   13269.0\n",
       "Discovery         0.996175  1.000000  0.998084  162500.0\n",
       "Execution         0.881909  0.589494  0.706645   65066.0\n",
       "Harmless          1.000000  0.000000  0.000000    1555.0\n",
       "Impact            1.000000  0.000000  0.000000      20.0\n",
       "Other             1.000000  0.000000  0.000000     232.0\n",
       "Persistence       0.906898  0.999905  0.951134  147911.0\n",
       "micro avg         0.943280  0.892980  0.917441  390553.0\n",
       "macro avg         0.840251  0.369946  0.379473  390553.0\n",
       "weighted avg      0.912788  0.892980  0.893237  390553.0\n",
       "samples avg       0.942291  0.900853  0.915891  390553.0"
      ]
     },
     "execution_count": 72,
     "metadata": {},
     "output_type": "execute_result"
    }
   ],
   "source": [
    "from sklearn.metrics import classification_report\n",
    "report_training = classification_report(y_train_mlb, y_train_predictions, target_names=mlb.classes_, output_dict=True, zero_division=1)\n",
    "df_report_training = pd.DataFrame(report_training).transpose()\n",
    "df_report_training"
   ]
  },
  {
   "cell_type": "code",
   "execution_count": 73,
   "metadata": {},
   "outputs": [
    {
     "data": {
      "text/html": [
       "<div>\n",
       "<style scoped>\n",
       "    .dataframe tbody tr th:only-of-type {\n",
       "        vertical-align: middle;\n",
       "    }\n",
       "\n",
       "    .dataframe tbody tr th {\n",
       "        vertical-align: top;\n",
       "    }\n",
       "\n",
       "    .dataframe thead th {\n",
       "        text-align: right;\n",
       "    }\n",
       "</style>\n",
       "<table border=\"1\" class=\"dataframe\">\n",
       "  <thead>\n",
       "    <tr style=\"text-align: right;\">\n",
       "      <th></th>\n",
       "      <th>precision</th>\n",
       "      <th>recall</th>\n",
       "      <th>f1-score</th>\n",
       "      <th>support</th>\n",
       "    </tr>\n",
       "  </thead>\n",
       "  <tbody>\n",
       "    <tr>\n",
       "      <th>Defense Evasion</th>\n",
       "      <td>0.083333</td>\n",
       "      <td>0.000175</td>\n",
       "      <td>0.000348</td>\n",
       "      <td>5730.0</td>\n",
       "    </tr>\n",
       "    <tr>\n",
       "      <th>Discovery</th>\n",
       "      <td>0.996195</td>\n",
       "      <td>1.000000</td>\n",
       "      <td>0.998094</td>\n",
       "      <td>69645.0</td>\n",
       "    </tr>\n",
       "    <tr>\n",
       "      <th>Execution</th>\n",
       "      <td>0.885720</td>\n",
       "      <td>0.589749</td>\n",
       "      <td>0.708050</td>\n",
       "      <td>27861.0</td>\n",
       "    </tr>\n",
       "    <tr>\n",
       "      <th>Harmless</th>\n",
       "      <td>1.000000</td>\n",
       "      <td>0.000000</td>\n",
       "      <td>0.000000</td>\n",
       "      <td>651.0</td>\n",
       "    </tr>\n",
       "    <tr>\n",
       "      <th>Impact</th>\n",
       "      <td>1.000000</td>\n",
       "      <td>0.000000</td>\n",
       "      <td>0.000000</td>\n",
       "      <td>7.0</td>\n",
       "    </tr>\n",
       "    <tr>\n",
       "      <th>Other</th>\n",
       "      <td>1.000000</td>\n",
       "      <td>0.000000</td>\n",
       "      <td>0.000000</td>\n",
       "      <td>95.0</td>\n",
       "    </tr>\n",
       "    <tr>\n",
       "      <th>Persistence</th>\n",
       "      <td>0.906764</td>\n",
       "      <td>0.999953</td>\n",
       "      <td>0.951081</td>\n",
       "      <td>63384.0</td>\n",
       "    </tr>\n",
       "    <tr>\n",
       "      <th>micro avg</th>\n",
       "      <td>0.943715</td>\n",
       "      <td>0.892964</td>\n",
       "      <td>0.917638</td>\n",
       "      <td>167373.0</td>\n",
       "    </tr>\n",
       "    <tr>\n",
       "      <th>macro avg</th>\n",
       "      <td>0.838859</td>\n",
       "      <td>0.369982</td>\n",
       "      <td>0.379653</td>\n",
       "      <td>167373.0</td>\n",
       "    </tr>\n",
       "    <tr>\n",
       "      <th>weighted avg</th>\n",
       "      <td>0.912703</td>\n",
       "      <td>0.892964</td>\n",
       "      <td>0.893361</td>\n",
       "      <td>167373.0</td>\n",
       "    </tr>\n",
       "    <tr>\n",
       "      <th>samples avg</th>\n",
       "      <td>0.942634</td>\n",
       "      <td>0.900778</td>\n",
       "      <td>0.916200</td>\n",
       "      <td>167373.0</td>\n",
       "    </tr>\n",
       "  </tbody>\n",
       "</table>\n",
       "</div>"
      ],
      "text/plain": [
       "                 precision    recall  f1-score   support\n",
       "Defense Evasion   0.083333  0.000175  0.000348    5730.0\n",
       "Discovery         0.996195  1.000000  0.998094   69645.0\n",
       "Execution         0.885720  0.589749  0.708050   27861.0\n",
       "Harmless          1.000000  0.000000  0.000000     651.0\n",
       "Impact            1.000000  0.000000  0.000000       7.0\n",
       "Other             1.000000  0.000000  0.000000      95.0\n",
       "Persistence       0.906764  0.999953  0.951081   63384.0\n",
       "micro avg         0.943715  0.892964  0.917638  167373.0\n",
       "macro avg         0.838859  0.369982  0.379653  167373.0\n",
       "weighted avg      0.912703  0.892964  0.893361  167373.0\n",
       "samples avg       0.942634  0.900778  0.916200  167373.0"
      ]
     },
     "execution_count": 73,
     "metadata": {},
     "output_type": "execute_result"
    }
   ],
   "source": [
    "report_test = classification_report(y_test_mlb, y_test_predictions, target_names=mlb.classes_, output_dict=True, zero_division=1)\n",
    "df_report_test = pd.DataFrame(report_test).transpose()\n",
    "df_report_test"
   ]
  },
  {
   "cell_type": "code",
   "execution_count": null,
   "metadata": {},
   "outputs": [],
   "source": [
    "loss_test, accuracy_test, f1_score_test, precision_test, recall_test = model.evaluate(X_test_tensor, y_test_tensor)"
   ]
  },
  {
   "cell_type": "code",
   "execution_count": 60,
   "metadata": {},
   "outputs": [
    {
     "name": "stdout",
     "output_type": "stream",
     "text": [
      "\n",
      "Results for Learning Rate: 0.001, Epochs: 5\n",
      "\n",
      "Training Metrics:\n",
      "loss: [0.6659442782402039, 0.6071252226829529, 0.557857871055603, 0.5164216160774231, 0.48138824105262756]\n",
      "auc: [0.7304347157478333, 0.9049215912818909, 0.9371058344841003, 0.9479453563690186, 0.95260089635849]\n",
      "precision: [0.5445597767829895, 0.8133646249771118, 0.8789963126182556, 0.9091379642486572, 0.9281554222106934]\n",
      "recall: [0.6622583270072937, 0.801930844783783, 0.8209472894668579, 0.8184242248535156, 0.8143847584724426]\n",
      "val_loss: [0.6345504522323608, 0.58077472448349, 0.5356441140174866, 0.4975869357585907, 0.46531233191490173]\n",
      "val_auc: [0.8661516308784485, 0.9283068180084229, 0.9450445175170898, 0.951468825340271, 0.954801082611084]\n",
      "val_precision: [0.745132565498352, 0.8598213791847229, 0.898432731628418, 0.922153651714325, 0.9362540245056152]\n",
      "val_recall: [0.7707832455635071, 0.8195574283599854, 0.8212228417396545, 0.8167698383331299, 0.8127107620239258]\n",
      "Validation Metrics:\n",
      "val_loss: [0.6659442782402039, 0.6071252226829529, 0.557857871055603, 0.5164216160774231, 0.48138824105262756]\n",
      "val_auc: [0.7304347157478333, 0.9049215912818909, 0.9371058344841003, 0.9479453563690186, 0.95260089635849]\n",
      "val_precision: [0.5445597767829895, 0.8133646249771118, 0.8789963126182556, 0.9091379642486572, 0.9281554222106934]\n",
      "val_recall: [0.6622583270072937, 0.801930844783783, 0.8209472894668579, 0.8184242248535156, 0.8143847584724426]\n",
      "val_val_loss: [0.6345504522323608, 0.58077472448349, 0.5356441140174866, 0.4975869357585907, 0.46531233191490173]\n",
      "val_val_auc: [0.8661516308784485, 0.9283068180084229, 0.9450445175170898, 0.951468825340271, 0.954801082611084]\n",
      "val_val_precision: [0.745132565498352, 0.8598213791847229, 0.898432731628418, 0.922153651714325, 0.9362540245056152]\n",
      "val_val_recall: [0.7707832455635071, 0.8195574283599854, 0.8212228417396545, 0.8167698383331299, 0.8127107620239258]\n"
     ]
    }
   ],
   "source": [
    "print_results_for_lr_and_epochs(0.001, 5, results)"
   ]
  },
  {
   "cell_type": "code",
   "execution_count": 61,
   "metadata": {},
   "outputs": [
    {
     "name": "stdout",
     "output_type": "stream",
     "text": [
      "\n",
      "Results for Learning Rate: 0.001, Epochs: 10\n",
      "\n",
      "Training Metrics:\n",
      "loss: [0.6652971506118774, 0.6062357425689697, 0.5567775964736938, 0.5151920914649963, 0.48004239797592163, 0.45015883445739746, 0.4245922565460205, 0.4025799036026001, 0.3835073411464691, 0.3668799102306366]\n",
      "auc: [0.7483022809028625, 0.9254229664802551, 0.9496852159500122, 0.9574357271194458, 0.9613220691680908, 0.9639429450035095, 0.9661109447479248, 0.9679741859436035, 0.9695754647254944, 0.9709227085113525]\n",
      "precision: [0.5469332933425903, 0.8355028629302979, 0.9040088057518005, 0.9242306351661682, 0.9343807697296143, 0.9400177001953125, 0.9435098171234131, 0.9454396963119507, 0.946648359298706, 0.9472769498825073]\n",
      "recall: [0.6791180372238159, 0.8315799832344055, 0.8407372832298279, 0.833736777305603, 0.8274867534637451, 0.8224790692329407, 0.8187264800071716, 0.8159524202346802, 0.8136880397796631, 0.8122920393943787]\n",
      "val_loss: [0.6336473822593689, 0.5796639919281006, 0.5343705415725708, 0.4961877167224884, 0.4638182520866394, 0.43620750308036804, 0.4125075936317444, 0.39203348755836487, 0.3742355704307556, 0.35866987705230713]\n",
      "val_auc: [0.8916682004928589, 0.9439799785614014, 0.9559630155563354, 0.9608691930770874, 0.9638389348983765, 0.9661065340042114, 0.9680244326591492, 0.9696575403213501, 0.9710712432861328, 0.9722874760627747]\n",
      "val_precision: [0.7570725679397583, 0.8876813054084778, 0.9185568690299988, 0.9315330982208252, 0.939033567905426, 0.9433155655860901, 0.9457870721817017, 0.9474053382873535, 0.9482704401016235, 0.9488219022750854]\n",
      "val_recall: [0.8033391833305359, 0.8434580564498901, 0.8378410935401917, 0.8306601047515869, 0.8248879313468933, 0.8205184936523438, 0.8171638250350952, 0.8148238658905029, 0.8127943277359009, 0.8115169405937195]\n",
      "Validation Metrics:\n",
      "val_loss: [0.6652971506118774, 0.6062357425689697, 0.5567775964736938, 0.5151920914649963, 0.48004239797592163, 0.45015883445739746, 0.4245922565460205, 0.4025799036026001, 0.3835073411464691, 0.3668799102306366]\n",
      "val_auc: [0.7483022809028625, 0.9254229664802551, 0.9496852159500122, 0.9574357271194458, 0.9613220691680908, 0.9639429450035095, 0.9661109447479248, 0.9679741859436035, 0.9695754647254944, 0.9709227085113525]\n",
      "val_precision: [0.5469332933425903, 0.8355028629302979, 0.9040088057518005, 0.9242306351661682, 0.9343807697296143, 0.9400177001953125, 0.9435098171234131, 0.9454396963119507, 0.946648359298706, 0.9472769498825073]\n",
      "val_recall: [0.6791180372238159, 0.8315799832344055, 0.8407372832298279, 0.833736777305603, 0.8274867534637451, 0.8224790692329407, 0.8187264800071716, 0.8159524202346802, 0.8136880397796631, 0.8122920393943787]\n",
      "val_val_loss: [0.6336473822593689, 0.5796639919281006, 0.5343705415725708, 0.4961877167224884, 0.4638182520866394, 0.43620750308036804, 0.4125075936317444, 0.39203348755836487, 0.3742355704307556, 0.35866987705230713]\n",
      "val_val_auc: [0.8916682004928589, 0.9439799785614014, 0.9559630155563354, 0.9608691930770874, 0.9638389348983765, 0.9661065340042114, 0.9680244326591492, 0.9696575403213501, 0.9710712432861328, 0.9722874760627747]\n",
      "val_val_precision: [0.7570725679397583, 0.8876813054084778, 0.9185568690299988, 0.9315330982208252, 0.939033567905426, 0.9433155655860901, 0.9457870721817017, 0.9474053382873535, 0.9482704401016235, 0.9488219022750854]\n",
      "val_val_recall: [0.8033391833305359, 0.8434580564498901, 0.8378410935401917, 0.8306601047515869, 0.8248879313468933, 0.8205184936523438, 0.8171638250350952, 0.8148238658905029, 0.8127943277359009, 0.8115169405937195]\n"
     ]
    }
   ],
   "source": [
    "print_results_for_lr_and_epochs(0.001, 10, results)"
   ]
  },
  {
   "cell_type": "code",
   "execution_count": null,
   "metadata": {},
   "outputs": [],
   "source": [
    "print_results_for_lr_and_epochs(0.001, 15, results)"
   ]
  },
  {
   "cell_type": "code",
   "execution_count": 65,
   "metadata": {},
   "outputs": [
    {
     "data": {
      "text/plain": [
       "{'loss': [0.6659442782402039,\n",
       "  0.6071252226829529,\n",
       "  0.557857871055603,\n",
       "  0.5164216160774231,\n",
       "  0.48138824105262756],\n",
       " 'auc': [0.7304347157478333,\n",
       "  0.9049215912818909,\n",
       "  0.9371058344841003,\n",
       "  0.9479453563690186,\n",
       "  0.95260089635849],\n",
       " 'precision': [0.5445597767829895,\n",
       "  0.8133646249771118,\n",
       "  0.8789963126182556,\n",
       "  0.9091379642486572,\n",
       "  0.9281554222106934],\n",
       " 'recall': [0.6622583270072937,\n",
       "  0.801930844783783,\n",
       "  0.8209472894668579,\n",
       "  0.8184242248535156,\n",
       "  0.8143847584724426],\n",
       " 'val_loss': [0.6345504522323608,\n",
       "  0.58077472448349,\n",
       "  0.5356441140174866,\n",
       "  0.4975869357585907,\n",
       "  0.46531233191490173],\n",
       " 'val_auc': [0.8661516308784485,\n",
       "  0.9283068180084229,\n",
       "  0.9450445175170898,\n",
       "  0.951468825340271,\n",
       "  0.954801082611084],\n",
       " 'val_precision': [0.745132565498352,\n",
       "  0.8598213791847229,\n",
       "  0.898432731628418,\n",
       "  0.922153651714325,\n",
       "  0.9362540245056152],\n",
       " 'val_recall': [0.7707832455635071,\n",
       "  0.8195574283599854,\n",
       "  0.8212228417396545,\n",
       "  0.8167698383331299,\n",
       "  0.8127107620239258]}"
      ]
     },
     "execution_count": 65,
     "metadata": {},
     "output_type": "execute_result"
    }
   ],
   "source": [
    "results[0].get(\"metrics\").history"
   ]
  }
 ],
 "metadata": {
  "kernelspec": {
   "display_name": "Python 3",
   "language": "python",
   "name": "python3"
  },
  "language_info": {
   "codemirror_mode": {
    "name": "ipython",
    "version": 3
   },
   "file_extension": ".py",
   "mimetype": "text/x-python",
   "name": "python",
   "nbconvert_exporter": "python",
   "pygments_lexer": "ipython3",
   "version": "3.11.3"
  }
 },
 "nbformat": 4,
 "nbformat_minor": 2
}

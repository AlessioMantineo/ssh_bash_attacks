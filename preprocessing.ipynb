{
 "cells": [
  {
   "cell_type": "code",
   "execution_count": null,
   "metadata": {},
   "outputs": [],
   "source": [
    "import pandas as pd\n",
    "import string\n",
    "import base64\n",
    "import re"
   ]
  },
  {
   "cell_type": "code",
   "execution_count": null,
   "metadata": {},
   "outputs": [],
   "source": [
    "def decode_base64(word):\n",
    "    try:\n",
    "        return base64.b64decode(word).decode(\"utf-8\")\n",
    "    except:\n",
    "        pass"
   ]
  },
  {
   "cell_type": "code",
   "execution_count": null,
   "metadata": {},
   "outputs": [],
   "source": [
    "def split_session(full_session):\n",
    "    words = []\n",
    "    for word in re.split(r\"\\n|;|,|/|-|\\||=|$|>|<|$|:|{|}|\\(|\\)| \", full_session):\n",
    "        if word.startswith('\"') or word.endswith('\"'):\n",
    "            # remove the quotation mark at the start and at the end of the word\n",
    "            word = word[1:-1]\n",
    "        elif len(word) == 1 and word in string.punctuation:\n",
    "            # remove that punctuation\n",
    "            word = None\n",
    "        words.append(word)\n",
    "    return list(filter(None, words))"
   ]
  },
  {
   "cell_type": "code",
   "execution_count": null,
   "metadata": {},
   "outputs": [],
   "source": [
    "def clean_session(full_session):\n",
    "    new_full_session = split_session(full_session)\n",
    "    for i,word in enumerate(new_full_session):\n",
    "        word_decoded = decode_base64(word)\n",
    "        if word_decoded:\n",
    "            list_word_decoded = split_session(word_decoded)\n",
    "            new_full_session.pop(i)\n",
    "            for j, d in enumerate(list_word_decoded):\n",
    "                new_full_session.insert(i + j, d)\n",
    "            break\n",
    "        else:\n",
    "            new_full_session.append(word)\n",
    "    return new_full_session"
   ]
  },
  {
   "cell_type": "code",
   "execution_count": null,
   "metadata": {},
   "outputs": [],
   "source": [
    "df_original = pd.read_parquet('ssh_attacks.parquet')\n",
    "df=df_original.copy()\n",
    "df['first_timestamp'] = pd.to_datetime(df['first_timestamp'])\n",
    "df"
   ]
  }
 ],
 "metadata": {
  "language_info": {
   "name": "python",
   "pygments_lexer": "ipython3"
  }
 },
 "nbformat": 4,
 "nbformat_minor": 2
}

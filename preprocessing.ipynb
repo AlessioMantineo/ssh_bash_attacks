{
 "cells": [
  {
   "cell_type": "code",
   "execution_count": 1,
   "metadata": {},
   "outputs": [],
   "source": [
    "import pandas as pd\n",
    "import base64\n",
    "import re"
   ]
  },
  {
   "cell_type": "code",
   "execution_count": 2,
   "metadata": {},
   "outputs": [],
   "source": [
    "def decode_base64(word):\n",
    "    try:\n",
    "        return base64.b64decode(word).decode()\n",
    "    except:\n",
    "        pass"
   ]
  },
  {
   "cell_type": "code",
   "execution_count": 3,
   "metadata": {},
   "outputs": [],
   "source": [
    "with open(\"features.txt\", \"r\") as f:\n",
    "    vocabulary = f.read().splitlines()"
   ]
  },
  {
   "cell_type": "code",
   "execution_count": 4,
   "metadata": {},
   "outputs": [],
   "source": [
    "def split_by_vocabulary(string):\n",
    "    pattern = '|'.join(map(re.escape, vocabulary))\n",
    "    matches = re.findall(pattern, string)\n",
    "    return matches"
   ]
  },
  {
   "cell_type": "code",
   "execution_count": 10,
   "metadata": {},
   "outputs": [],
   "source": [
    "def decode_session(full_session):\n",
    "    new_full_session = []\n",
    "    \n",
    "    for session_chunk in full_session.split(\";\"):\n",
    "        if \"base64 --decode\" in session_chunk and \"echo\" in session_chunk:\n",
    "            parts = session_chunk.split()\n",
    "            base64_encoded = None\n",
    "        \n",
    "            for i in range(len(parts)):\n",
    "                if parts[i] == \"echo\":\n",
    "                    base64_encoded = parts[i + 1].strip(\"\\\"\")\n",
    "                    break\n",
    "            \n",
    "            if base64_encoded:\n",
    "                decoded = decode_base64(base64_encoded)\n",
    "                if decoded:\n",
    "                    words_decoded = decoded.split(\"\\n\")\n",
    "                    # Remove shebang if present\n",
    "                    if words_decoded[0].strip() == \"#!/bin/bash\":\n",
    "                        words_decoded[0] = \"\"\n",
    "                    new_full_session.append(\"; \".join(list(filter(None, words_decoded))).strip())\n",
    "                else:\n",
    "                    new_full_session.append(session_chunk.strip())\n",
    "            else:\n",
    "                new_full_session.append(session_chunk.strip())\n",
    "        else:\n",
    "            new_full_session.append(session_chunk.strip())\n",
    "    \n",
    "    return \"; \".join(new_full_session)"
   ]
  },
  {
   "cell_type": "code",
   "execution_count": 11,
   "metadata": {},
   "outputs": [],
   "source": [
    "df_original = pd.read_parquet('ssh_attacks.parquet')\n",
    "df_decoded=df_original.copy()\n",
    "df_decoded['first_timestamp'] = pd.to_datetime(df_decoded['first_timestamp'])\n",
    "df_decoded[\"full_session\"] = df_decoded[\"full_session\"].apply(lambda session: decode_session(session))\n",
    "df_decoded.to_parquet(\"ssh_attacks_decoded.parquet\")"
   ]
  },
  {
   "cell_type": "code",
   "execution_count": null,
   "metadata": {},
   "outputs": [],
   "source": [
    "df_decoded_splitted = df_decoded.copy()\n",
    "df_decoded_splitted[\"full_session\"] = df_decoded_splitted[\"full_session\"].apply(lambda session: split_by_vocabulary(session))\n",
    "df_decoded_splitted.to_parquet(\"ssh_attacks_decoded_splitted.parquet\")"
   ]
  }
 ],
 "metadata": {
  "kernelspec": {
   "display_name": "Python 3",
   "language": "python",
   "name": "python3"
  },
  "language_info": {
   "codemirror_mode": {
    "name": "ipython",
    "version": 3
   },
   "file_extension": ".py",
   "mimetype": "text/x-python",
   "name": "python",
   "nbconvert_exporter": "python",
   "pygments_lexer": "ipython3",
   "version": "3.11.3"
  }
 },
 "nbformat": 4,
 "nbformat_minor": 2
}

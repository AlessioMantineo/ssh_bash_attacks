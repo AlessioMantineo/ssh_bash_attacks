{
 "cells": [
  {
   "cell_type": "code",
   "execution_count": null,
   "metadata": {},
   "outputs": [],
   "source": [
    "import pandas as pd\n",
    "import string\n",
    "import base64\n",
    "import re"
   ]
  },
  {
   "cell_type": "code",
   "execution_count": null,
   "metadata": {},
   "outputs": [],
   "source": [
    "def decode_base64(word):\n",
    "    try:\n",
    "        return base64.b64decode(word).decode(\"utf-8\")\n",
    "    except:\n",
    "        pass"
   ]
  },
  {
   "cell_type": "code",
   "execution_count": null,
   "metadata": {},
   "outputs": [],
   "source": [
    "def split_session(full_session):\n",
    "    words = []\n",
    "    for word in re.split(r\"\\n|;|,|/|-|\\||=|$|>|<|$|:|{|}|\\(|\\)| \", full_session):\n",
    "        if word.startswith('\"') or word.endswith('\"'):\n",
    "            # remove the quotation mark at the start and at the end of the word\n",
    "            word = word[1:-1]\n",
    "        elif len(word) == 1 and word in string.punctuation:\n",
    "            # remove that punctuation\n",
    "            word = None\n",
    "        words.append(word)\n",
    "    return list(filter(None, words))"
   ]
  },
  {
   "cell_type": "code",
   "execution_count": null,
   "metadata": {},
   "outputs": [],
   "source": [
    "def clean_session(full_session):\n",
    "    new_full_session = []\n",
    "    for session_chunck in full_session.split(\";\"):\n",
    "        if \"base64 --decode\" in session_chunck or \"echo\" in session_chunck:\n",
    "            for word in session_chunck.split(\"\\\"\"):\n",
    "                decode = decode_base64(word)\n",
    "                if decode:\n",
    "                    new_full_session.append(decode)\n",
    "        else:\n",
    "            new_full_session.append(session_chunck)\n",
    "    return split_session(\"\".join(new_full_session))"
   ]
  },
  {
   "cell_type": "code",
   "execution_count": null,
   "metadata": {},
   "outputs": [],
   "source": [
    "df_original = pd.read_parquet('ssh_attacks.parquet')\n",
    "df=df_original.copy()\n",
    "df['first_timestamp'] = pd.to_datetime(df['first_timestamp'])\n",
    "df[\"full_session\"] = df[\"full_session\"].apply(lambda x: clean_session(x))\n",
    "df.to_parquet(\"ssh_attacks_cleaned.parquet\")"
   ]
  }
 ],
 "metadata": {
  "language_info": {
   "name": "python",
   "pygments_lexer": "ipython3"
  }
 },
 "nbformat": 4,
 "nbformat_minor": 2
}

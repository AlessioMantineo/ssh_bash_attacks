{
 "cells": [
  {
   "cell_type": "code",
   "execution_count": null,
   "metadata": {},
   "outputs": [],
   "source": [
    "import pandas as pd\n",
    "import base64\n",
    "import re"
   ]
  },
  {
   "cell_type": "code",
   "execution_count": null,
   "metadata": {},
   "outputs": [],
   "source": [
    "def decode_base64(word):\n",
    "    try:\n",
    "        return base64.b64decode(word).decode(\"utf-8\")\n",
    "    except:\n",
    "        pass"
   ]
  },
  {
   "cell_type": "code",
   "execution_count": null,
   "metadata": {},
   "outputs": [],
   "source": [
    "with open(\"features.txt\", \"r\") as f:\n",
    "    vocabulary = f.read().splitlines()"
   ]
  },
  {
   "cell_type": "code",
   "execution_count": null,
   "metadata": {},
   "outputs": [],
   "source": [
    "def split_by_vocabulary(string):\n",
    "    pattern = '|'.join(map(re.escape, vocabulary))\n",
    "    matches = re.findall(pattern, string)\n",
    "    return matches"
   ]
  },
  {
   "cell_type": "code",
   "execution_count": null,
   "metadata": {},
   "outputs": [],
   "source": [
    "def decode_session(full_session):\n",
    "    new_full_session = []\n",
    "    for session_chunck in full_session.split(\";\"):\n",
    "        if \"base64 --decode\" in session_chunck or \"echo\" in session_chunck:\n",
    "            for word in session_chunck.split(\"\\\"\"):\n",
    "                decode = decode_base64(word)\n",
    "                if decode:\n",
    "                    words_decoded = decode.split(\"\\n\")\n",
    "                    # remove shebang\n",
    "                    if words_decoded[0] == \"#!/bin/bash\":\n",
    "                        words_decoded[0] = \"\"\n",
    "                    new_full_session.append(\"; \".join(words_decoded))\n",
    "                else:\n",
    "                    new_full_session.append(session_chunck)\n",
    "        else:\n",
    "            new_full_session.append(session_chunck)\n",
    "    return \"; \".join(new_full_session)"
   ]
  },
  {
   "cell_type": "code",
   "execution_count": null,
   "metadata": {},
   "outputs": [],
   "source": [
    "df_original = pd.read_parquet('ssh_attacks.parquet')\n",
    "df_decoded=df_original.copy()\n",
    "df_decoded['first_timestamp'] = pd.to_datetime(df_decoded['first_timestamp'])\n",
    "df_decoded[\"full_session\"] = df_decoded[\"full_session\"].apply(lambda session: decode_session(session))\n",
    "df_decoded.to_parquet(\"ssh_attacks_decoded.parquet\")"
   ]
  },
  {
   "cell_type": "code",
   "execution_count": null,
   "metadata": {},
   "outputs": [],
   "source": [
    "df_decoded_splitted = df_decoded.copy()\n",
    "df_decoded_splitted[\"full_session\"] = df_decoded_splitted[\"full_session\"].apply(lambda session: split_by_vocabulary(session))\n",
    "df_decoded_splitted.to_parquet(\"ssh_attacks_decoded_splitted.parquet\")"
   ]
  }
 ],
 "metadata": {
  "language_info": {
   "name": "python",
   "pygments_lexer": "ipython3"
  }
 },
 "nbformat": 4,
 "nbformat_minor": 2
}
